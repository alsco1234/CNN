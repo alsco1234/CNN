{
  "nbformat": 4,
  "nbformat_minor": 0,
  "metadata": {
    "colab": {
      "provenance": []
    },
    "kernelspec": {
      "name": "python3",
      "display_name": "Python 3"
    },
    "language_info": {
      "name": "python"
    }
  },
  "cells": [
    {
      "cell_type": "code",
      "execution_count": null,
      "metadata": {
        "colab": {
          "base_uri": "https://localhost:8080/"
        },
        "id": "YzRqYnCjPyYc",
        "outputId": "118ee9ac-c526-4bba-ef6c-67e72eb43740"
      },
      "outputs": [
        {
          "output_type": "stream",
          "name": "stdout",
          "text": [
            "Looking in indexes: https://pypi.org/simple, https://us-python.pkg.dev/colab-wheels/public/simple/\n",
            "Requirement already satisfied: pyod in /usr/local/lib/python3.8/dist-packages (1.0.7)\n",
            "Requirement already satisfied: numpy>=1.19 in /usr/local/lib/python3.8/dist-packages (from pyod) (1.21.6)\n",
            "Requirement already satisfied: numba>=0.51 in /usr/local/lib/python3.8/dist-packages (from pyod) (0.56.4)\n",
            "Requirement already satisfied: matplotlib in /usr/local/lib/python3.8/dist-packages (from pyod) (3.6.3)\n",
            "Requirement already satisfied: scikit-learn>=0.20.0 in /usr/local/lib/python3.8/dist-packages (from pyod) (1.0.2)\n",
            "Requirement already satisfied: statsmodels in /usr/local/lib/python3.8/dist-packages (from pyod) (0.12.2)\n",
            "Requirement already satisfied: six in /usr/local/lib/python3.8/dist-packages (from pyod) (1.15.0)\n",
            "Requirement already satisfied: scipy>=1.5.1 in /usr/local/lib/python3.8/dist-packages (from pyod) (1.7.3)\n",
            "Requirement already satisfied: joblib in /usr/local/lib/python3.8/dist-packages (from pyod) (1.2.0)\n",
            "Requirement already satisfied: setuptools in /usr/local/lib/python3.8/dist-packages (from numba>=0.51->pyod) (57.4.0)\n",
            "Requirement already satisfied: llvmlite<0.40,>=0.39.0dev0 in /usr/local/lib/python3.8/dist-packages (from numba>=0.51->pyod) (0.39.1)\n",
            "Requirement already satisfied: importlib-metadata in /usr/local/lib/python3.8/dist-packages (from numba>=0.51->pyod) (6.0.0)\n",
            "Requirement already satisfied: threadpoolctl>=2.0.0 in /usr/local/lib/python3.8/dist-packages (from scikit-learn>=0.20.0->pyod) (3.1.0)\n",
            "Requirement already satisfied: pillow>=6.2.0 in /usr/local/lib/python3.8/dist-packages (from matplotlib->pyod) (7.1.2)\n",
            "Requirement already satisfied: python-dateutil>=2.7 in /usr/local/lib/python3.8/dist-packages (from matplotlib->pyod) (2.8.2)\n",
            "Requirement already satisfied: kiwisolver>=1.0.1 in /usr/local/lib/python3.8/dist-packages (from matplotlib->pyod) (1.4.4)\n",
            "Requirement already satisfied: contourpy>=1.0.1 in /usr/local/lib/python3.8/dist-packages (from matplotlib->pyod) (1.0.7)\n",
            "Requirement already satisfied: packaging>=20.0 in /usr/local/lib/python3.8/dist-packages (from matplotlib->pyod) (21.3)\n",
            "Requirement already satisfied: cycler>=0.10 in /usr/local/lib/python3.8/dist-packages (from matplotlib->pyod) (0.11.0)\n",
            "Requirement already satisfied: pyparsing>=2.2.1 in /usr/local/lib/python3.8/dist-packages (from matplotlib->pyod) (3.0.9)\n",
            "Requirement already satisfied: fonttools>=4.22.0 in /usr/local/lib/python3.8/dist-packages (from matplotlib->pyod) (4.38.0)\n",
            "Requirement already satisfied: patsy>=0.5 in /usr/local/lib/python3.8/dist-packages (from statsmodels->pyod) (0.5.3)\n",
            "Requirement already satisfied: pandas>=0.21 in /usr/local/lib/python3.8/dist-packages (from statsmodels->pyod) (1.3.5)\n",
            "Requirement already satisfied: pytz>=2017.3 in /usr/local/lib/python3.8/dist-packages (from pandas>=0.21->statsmodels->pyod) (2022.7)\n",
            "Requirement already satisfied: zipp>=0.5 in /usr/local/lib/python3.8/dist-packages (from importlib-metadata->numba>=0.51->pyod) (3.11.0)\n",
            "Looking in indexes: https://pypi.org/simple, https://us-python.pkg.dev/colab-wheels/public/simple/\n",
            "Requirement already satisfied: scanpy in /usr/local/lib/python3.8/dist-packages (1.9.1)\n",
            "Requirement already satisfied: numba>=0.41.0 in /usr/local/lib/python3.8/dist-packages (from scanpy) (0.56.4)\n",
            "Requirement already satisfied: umap-learn>=0.3.10 in /usr/local/lib/python3.8/dist-packages (from scanpy) (0.5.3)\n",
            "Requirement already satisfied: networkx>=2.3 in /usr/local/lib/python3.8/dist-packages (from scanpy) (3.0)\n",
            "Requirement already satisfied: anndata>=0.7.4 in /usr/local/lib/python3.8/dist-packages (from scanpy) (0.8.0)\n",
            "Requirement already satisfied: joblib in /usr/local/lib/python3.8/dist-packages (from scanpy) (1.2.0)\n",
            "Requirement already satisfied: scipy>=1.4 in /usr/local/lib/python3.8/dist-packages (from scanpy) (1.7.3)\n",
            "Requirement already satisfied: seaborn in /usr/local/lib/python3.8/dist-packages (from scanpy) (0.11.2)\n",
            "Requirement already satisfied: session-info in /usr/local/lib/python3.8/dist-packages (from scanpy) (1.0.0)\n",
            "Requirement already satisfied: numpy>=1.17.0 in /usr/local/lib/python3.8/dist-packages (from scanpy) (1.21.6)\n",
            "Requirement already satisfied: scikit-learn>=0.22 in /usr/local/lib/python3.8/dist-packages (from scanpy) (1.0.2)\n",
            "Requirement already satisfied: patsy in /usr/local/lib/python3.8/dist-packages (from scanpy) (0.5.3)\n",
            "Requirement already satisfied: tqdm in /usr/local/lib/python3.8/dist-packages (from scanpy) (4.64.1)\n",
            "Requirement already satisfied: h5py>=3 in /usr/local/lib/python3.8/dist-packages (from scanpy) (3.1.0)\n",
            "Requirement already satisfied: natsort in /usr/local/lib/python3.8/dist-packages (from scanpy) (5.5.0)\n",
            "Requirement already satisfied: packaging in /usr/local/lib/python3.8/dist-packages (from scanpy) (21.3)\n",
            "Requirement already satisfied: statsmodels>=0.10.0rc2 in /usr/local/lib/python3.8/dist-packages (from scanpy) (0.12.2)\n",
            "Requirement already satisfied: matplotlib>=3.4 in /usr/local/lib/python3.8/dist-packages (from scanpy) (3.6.3)\n",
            "Requirement already satisfied: pandas>=1.0 in /usr/local/lib/python3.8/dist-packages (from scanpy) (1.3.5)\n",
            "Requirement already satisfied: pyparsing>=2.2.1 in /usr/local/lib/python3.8/dist-packages (from matplotlib>=3.4->scanpy) (3.0.9)\n",
            "Requirement already satisfied: contourpy>=1.0.1 in /usr/local/lib/python3.8/dist-packages (from matplotlib>=3.4->scanpy) (1.0.7)\n",
            "Requirement already satisfied: fonttools>=4.22.0 in /usr/local/lib/python3.8/dist-packages (from matplotlib>=3.4->scanpy) (4.38.0)\n",
            "Requirement already satisfied: kiwisolver>=1.0.1 in /usr/local/lib/python3.8/dist-packages (from matplotlib>=3.4->scanpy) (1.4.4)\n",
            "Requirement already satisfied: cycler>=0.10 in /usr/local/lib/python3.8/dist-packages (from matplotlib>=3.4->scanpy) (0.11.0)\n",
            "Requirement already satisfied: pillow>=6.2.0 in /usr/local/lib/python3.8/dist-packages (from matplotlib>=3.4->scanpy) (7.1.2)\n",
            "Requirement already satisfied: python-dateutil>=2.7 in /usr/local/lib/python3.8/dist-packages (from matplotlib>=3.4->scanpy) (2.8.2)\n",
            "Requirement already satisfied: setuptools in /usr/local/lib/python3.8/dist-packages (from numba>=0.41.0->scanpy) (57.4.0)\n",
            "Requirement already satisfied: importlib-metadata in /usr/local/lib/python3.8/dist-packages (from numba>=0.41.0->scanpy) (6.0.0)\n",
            "Requirement already satisfied: llvmlite<0.40,>=0.39.0dev0 in /usr/local/lib/python3.8/dist-packages (from numba>=0.41.0->scanpy) (0.39.1)\n",
            "Requirement already satisfied: pytz>=2017.3 in /usr/local/lib/python3.8/dist-packages (from pandas>=1.0->scanpy) (2022.7)\n",
            "Requirement already satisfied: threadpoolctl>=2.0.0 in /usr/local/lib/python3.8/dist-packages (from scikit-learn>=0.22->scanpy) (3.1.0)\n",
            "Requirement already satisfied: six in /usr/local/lib/python3.8/dist-packages (from patsy->scanpy) (1.15.0)\n",
            "Requirement already satisfied: pynndescent>=0.5 in /usr/local/lib/python3.8/dist-packages (from umap-learn>=0.3.10->scanpy) (0.5.8)\n",
            "Requirement already satisfied: stdlib-list in /usr/local/lib/python3.8/dist-packages (from session-info->scanpy) (0.8.0)\n",
            "Requirement already satisfied: zipp>=0.5 in /usr/local/lib/python3.8/dist-packages (from importlib-metadata->numba>=0.41.0->scanpy) (3.11.0)\n",
            "Looking in indexes: https://pypi.org/simple, https://us-python.pkg.dev/colab-wheels/public/simple/\n",
            "Requirement already satisfied: matplotlib in /usr/local/lib/python3.8/dist-packages (3.6.3)\n",
            "Requirement already satisfied: packaging>=20.0 in /usr/local/lib/python3.8/dist-packages (from matplotlib) (21.3)\n",
            "Requirement already satisfied: pyparsing>=2.2.1 in /usr/local/lib/python3.8/dist-packages (from matplotlib) (3.0.9)\n",
            "Requirement already satisfied: contourpy>=1.0.1 in /usr/local/lib/python3.8/dist-packages (from matplotlib) (1.0.7)\n",
            "Requirement already satisfied: fonttools>=4.22.0 in /usr/local/lib/python3.8/dist-packages (from matplotlib) (4.38.0)\n",
            "Requirement already satisfied: cycler>=0.10 in /usr/local/lib/python3.8/dist-packages (from matplotlib) (0.11.0)\n",
            "Requirement already satisfied: numpy>=1.19 in /usr/local/lib/python3.8/dist-packages (from matplotlib) (1.21.6)\n",
            "Requirement already satisfied: python-dateutil>=2.7 in /usr/local/lib/python3.8/dist-packages (from matplotlib) (2.8.2)\n",
            "Requirement already satisfied: pillow>=6.2.0 in /usr/local/lib/python3.8/dist-packages (from matplotlib) (7.1.2)\n",
            "Requirement already satisfied: kiwisolver>=1.0.1 in /usr/local/lib/python3.8/dist-packages (from matplotlib) (1.4.4)\n",
            "Requirement already satisfied: six>=1.5 in /usr/local/lib/python3.8/dist-packages (from python-dateutil>=2.7->matplotlib) (1.15.0)\n"
          ]
        }
      ],
      "source": [
        "!pip install pyod\n",
        "!pip3 install scanpy\n",
        "!pip install matplotlib"
      ]
    },
    {
      "cell_type": "code",
      "source": [
        "from pyod.models.cof import COF\n",
        "from pyod.models.iforest import IForest\n",
        "from pyod.models.ocsvm import OCSVM\n",
        "from pyod.models.auto_encoder import AutoEncoder\n",
        "from pyod.utils.example import visualize\n",
        "from pyod.utils.data import evaluate_print\n",
        "from pyod.utils.data import generate_data\n",
        "from torchvision import datasets, transforms\n",
        "from pyod.utils.utility import precision_n_scores\n",
        "from sklearn.metrics import precision_score, recall_score, f1_score, accuracy_score, roc_auc_score, average_precision_score\n",
        "from sklearn import metrics\n",
        "from sklearn.metrics import precision_recall_curve, PrecisionRecallDisplay\n",
        "from sklearn.metrics import roc_auc_score\n",
        "import numpy as np\n",
        "import pandas as pd\n",
        "import csv\n",
        "\n",
        "from sklearn.model_selection import train_test_split\n",
        "normal_data = np.loadtxt('/content/drive/MyDrive/normal_X3D.csv', delimiter=',')\n",
        "crash_data = np.loadtxt('/content/drive/MyDrive/crash_X3D.csv', delimiter=',')\n",
        "# normal_label =np.loadtxt('/content/drive/MyDrive/normal_labeled_X3D.csv', delimiter=',', dtype='U4')\n",
        "# crash_label = np.loadtxt('/content/drive/MyDrive/crash_labeled_X3D.csv', delimiter=',', dtype='U4')"
      ],
      "metadata": {
        "id": "qtARBHXAP8IN"
      },
      "execution_count": null,
      "outputs": []
    },
    {
      "cell_type": "code",
      "source": [
        "normal_label = pd.read_csv('/content/drive/MyDrive/normal_labeled_X3D.csv', header=None)\n",
        "crash_label = pd.read_csv('/content/drive/MyDrive/crash_labeled_X3D.csv', header=None)\n",
        "\n",
        "N_tr = np.round(normal_data.shape[0] * .7).astype(int)\n",
        "test_data_label = normal_label.iloc[: , 0]\n",
        "test_data_label = test_data_label[N_tr:]\n",
        "test_data_label = pd.DataFrame(test_data_label).to_numpy()\n",
        "\n",
        "C_tr = np.round(crash_data.shape[0] * .7).astype(int)\n",
        "tmp_label = crash_label.iloc[: , 0]\n",
        "tmp_label = tmp_label[C_tr:]\n",
        "tmp_label = pd.DataFrame(tmp_label).to_numpy()\n",
        "\n",
        "test_data_label = np.concatenate([test_data_label, tmp_label])\n",
        "test_data_label.shape"
      ],
      "metadata": {
        "colab": {
          "base_uri": "https://localhost:8080/"
        },
        "id": "RsqQKM3MJQmA",
        "outputId": "e2294739-023b-4d7c-8aec-c0eb755c2203"
      },
      "execution_count": null,
      "outputs": [
        {
          "output_type": "execute_result",
          "data": {
            "text/plain": [
              "(4025, 1)"
            ]
          },
          "metadata": {},
          "execution_count": 74
        }
      ]
    },
    {
      "cell_type": "code",
      "source": [
        "#### shuffling the label ####\n",
        "# norm_data.shape (9000,512) crash_data.shape (2025,512)\n",
        "# normal_data.shape (2523,512) super_crash.shape (65)\n",
        "# crash anomaly is too many so, use only 300 of crash data (10% of normal data)\n",
        "print('crash is', crash_data.shape)\n",
        "crash_data = crash_data[1000:2000, :]\n",
        "norm_data = normal_data[:, :]\n",
        "# split 8:1 for training and testing\n",
        "N = norm_data.shape[0]\n",
        "N_tr = np.round(N * 7).astype(int)\n",
        "train_data = norm_data[:N_tr, :] #normal - 4500\n",
        "test_data = norm_data[N_tr:, :]  # normal - 450\n",
        "\n",
        "#label - 0 = 'inlier'\n",
        "train_label = np.zeros(train_data.shape[0])#,dtype=\"U4\")\n",
        "test_label = np.zeros(test_data.shape[0])#,dtype=\"U4\")\n",
        "\n",
        "C = crash_data.shape[0]\n",
        "C_tr = np.round(C * .7).astype(int)\n",
        "\n",
        "#label - 1 = 'outlier'\n",
        "train_data = np.concatenate([train_data, crash_data[:C_tr, :]]) #anomaly - 500\n",
        "tmp = np.ones(crash_data[:C_tr, :].shape[0])\n",
        "train_label = np.concatenate([train_label, tmp])\n",
        "# tmp = np.ones(crash_data[:, :].shape[0])\n",
        "#tmp[:] = 'anomaly'\n",
        "\n",
        "test_data = np.concatenate([test_data, crash_data[C_tr:, :]]) #anomaly - 50\n",
        "tmp = np.ones(crash_data[C_tr:, :].shape[0])\n",
        "#tmp[:] = 'anomaly'\n",
        "test_label = np.concatenate([test_label, tmp])\n",
        "\n",
        "train_data = np.insert(train_data, 0, train_label, axis=1)\n",
        "test_data = np.insert(test_data, 0, test_label, axis=1)\n",
        "\n",
        "np.random.shuffle(train_data)\n",
        "np.random.shuffle(test_data)\n",
        "\n",
        "train_label = train_data[:, 0]\n",
        "test_label = test_data[:, 0]\n",
        "np.delete(train_data, 0, 1)\n",
        "np.delete(test_data, 0, 1)\n",
        "\n",
        "print(train_data.shape, test_data.shape)"
      ],
      "metadata": {
        "id": "NohCXOO03Dj6"
      },
      "execution_count": null,
      "outputs": []
    },
    {
      "cell_type": "code",
      "source": [
        "# norm_data.shape (9000,512) crash_data.shape (2025,512)\n",
        "# crash anomaly is too many so, use only 300 of crash data (10% of normal data)\n",
        "#crash_data = crash_data[0:900, :]\n",
        "norm_data = normal_data[:, :]\n",
        "crash_data = crash_data[:1000, :]\n",
        "# split 70% for training 30% for testing\n",
        "N = norm_data.shape[0]\n",
        "N_tr = np.round(N * 0.7).astype(int)\n",
        "train_data = norm_data[:N_tr, :]\n",
        "test_data = norm_data[N_tr:, :]\n",
        "train_data_label = np.array(normal_label[:N_tr], dtype=\"U4\")\n",
        "test_data_label = np.array(normal_label[N_tr:], dtype=\"U4\")\n",
        "\n",
        "train_label = np.zeros(train_data.shape[0])#,dtype=\"U4\")\n",
        "#train_label[:] = 'normal'\n",
        "test_label = np.zeros(test_data.shape[0])#,dtype=\"U4\")\n",
        "#test_label[:] = 'normal'\n",
        "\n",
        "C = crash_data.shape[0]\n",
        "C_tr = np.round(C * 0.7).astype(int)\n",
        "# train_data = np.concatenate([train_data, crash_data[:C_tr, :]])\n",
        "# tmp = np.ones(crash_data[:C_tr, :].shape[0])\n",
        "train_data = np.concatenate([train_data, crash_data[:C_tr, :]])\n",
        "tmp = np.ones(crash_data[:C_tr, :].shape[0])\n",
        "#tmp[:] = 'anomaly'\n",
        "train_label = np.concatenate([train_label, tmp])\n",
        "\n",
        "#test_data = np.concatenate([test_data, crash_data[C_tr:, :]])\n",
        "#tmp = np.ones(crash_data[C_tr:, :].shape[0])\n",
        "test_data = np.concatenate([test_data, crash_data[C_tr:, :]])\n",
        "tmp = np.ones(crash_data[C_tr:, :].shape[0])\n",
        "#tmp[:] = 'anomaly'\n",
        "test_label = np.concatenate([test_label, tmp])\n",
        "\n",
        "train_data_label = np.concatenate([train_data_label, crash_label[:C_tr]])\n",
        "test_data_label = np.concatenate([test_data_label, crash_label[C_tr:]])\n",
        "\n",
        "print(train_data.shape, test_data.shape)\n",
        "print(N, N_tr, C_tr)\n",
        "train_data_label.shape"
      ],
      "metadata": {
        "colab": {
          "base_uri": "https://localhost:8080/"
        },
        "id": "EVqHyFgQRdKI",
        "outputId": "964ab544-7120-420b-93e3-9de8b2441b9a"
      },
      "execution_count": null,
      "outputs": [
        {
          "output_type": "stream",
          "name": "stdout",
          "text": [
            "(6300, 2048) (3000, 2048)\n",
            "9000 6300 700\n"
          ]
        },
        {
          "output_type": "execute_result",
          "data": {
            "text/plain": [
              "(7000, 1)"
            ]
          },
          "metadata": {},
          "execution_count": 86
        }
      ]
    },
    {
      "cell_type": "code",
      "source": [
        "max_roc = 0\n",
        "max_precision = 0\n",
        "max_recall = 0\n",
        "max_acc = 0\n",
        "max_pred = np.zeros(test_label.shape[0])\n",
        "max_scores = 0\n",
        "max_train_pred = 0\n",
        "max_train_scores = 0\n",
        "max_i = 0\n",
        "max_pr_auc = 0\n",
        "\n",
        "classifier_name = 'IForest'\n",
        "classifier = IForest(contamination = 0.1, n_estimators = 1001)\n",
        "#classifier = AutoEncoder(hidden_neurons = [256, 128, 64, 3, 3, 64, 128, 256], contamination = 0.01, epochs=50, batch_size=100)\n",
        "#classifier = OCSVM(degree = i, contamination = 0.06)\n",
        "classifier.fit(train_data)\n",
        "\n",
        "#array([0, 0, 0, ..., 0, 0, 0])\n",
        "classifier.labels_\n",
        "\n",
        "# get the prediction labels and outlier scores of the training data\n",
        "y_train_pred = classifier.labels_ # binary labels (0: inliers, 1: outliers)\n",
        "y_train_scores = classifier.decision_scores_ # raw outlier scores\n",
        "y_train_scores.shape  #(2169,)\n",
        "\n",
        "y_test_pred = classifier.predict(test_data)\n",
        "y_test_scores = classifier.decision_function(test_data)\n",
        "\n",
        "train_acc=np.round(accuracy_score(train_label, y_train_pred), decimals=3)\n",
        "test_acc=np.round(accuracy_score(test_label, y_test_pred), decimals=3)\n",
        "test_precision=np.round(precision_score(test_label, y_test_pred), decimals=3)\n",
        "test_recall=np.round(recall_score(test_label, y_test_pred), decimals=3)\n",
        "\n",
        "# evaluate and print the results\n",
        "#print(\"\\nOn Training Data:\")\n",
        "#print('accuracy :{acc}, '.format(acc=train_acc), end=' ')\n",
        "#evaluate_print(classifier_name, train_label, y_train_scores)\n",
        "\n",
        "print(\"\\nOn Test Data:\")\n",
        "print('accuracy :{acc}, '.format(acc=test_acc), end=' ')\n",
        "print('precision :{prec}, '.format(prec=test_precision), end=' ')\n",
        "print('recall :{recall}, '.format(recall=test_recall), end=' ')\n",
        "evaluate_print(classifier_name, test_label, y_test_scores)\n",
        "\n",
        "print('\\nMax is precision:{prec}, recall:{recall} '.format(prec=max_precision, recall=max_recall))\n",
        "roc=np.round(roc_auc_score(test_label, y_test_scores), decimals=3)\n",
        "pr_auc = average_precision_score(test_label, y_test_pred)\n",
        "  \n",
        "max_pr_auc\n",
        "\n",
        "# On Test Data:\n",
        "# 651 th : accuracy :0.994,  precision :0.961,  recall :0.98,  IForest ROC:0.9973, precision @ rank n:0.9633\n",
        "\n",
        "# On Test Data:\n",
        "# 1001 th : accuracy :0.994,  precision :0.964,  recall :0.98,  IForest ROC:0.9976, precision @ rank n:0.9633\n",
        "\n",
        "# On Test Data:\n",
        "# 1051 th : accuracy :0.994,  precision :0.958,  recall :0.983,  IForest ROC:0.9974, precision @ rank n:0.9633"
      ],
      "metadata": {
        "colab": {
          "base_uri": "https://localhost:8080/"
        },
        "id": "Bx_dgMlySdxT",
        "outputId": "acf9426a-dd96-40b8-edc5-f007a4dea5d7"
      },
      "execution_count": null,
      "outputs": [
        {
          "output_type": "stream",
          "name": "stdout",
          "text": [
            "\n",
            "On Test Data:\n",
            "accuracy :0.995,  precision :0.964,  recall :0.987,  IForest ROC:0.9977, precision @ rank n:0.9633\n",
            "\n",
            "Max is precision:0, recall:0 \n"
          ]
        },
        {
          "output_type": "execute_result",
          "data": {
            "text/plain": [
              "0"
            ]
          },
          "metadata": {},
          "execution_count": 24
        }
      ]
    },
    {
      "cell_type": "code",
      "source": [
        "#사고인데 사고 아니라고한거 False Positive\n",
        "#사고아닌데 사고라고 한거면 False Negative\n",
        "fp = []\n",
        "fn = []\n",
        "tn = []\n",
        "for i in range(len(y_test_pred)):\n",
        "  if test_label[i] == 1 and y_test_pred[i] == 0:\n",
        "    fp.append(test_data_label[i])\n",
        "  elif test_label[i] == 0 and y_test_pred[i] == 1:\n",
        "    fn.append(test_data_label[i])\n",
        "  elif test_label[i] == 1 and y_test_pred[i] == 1:\n",
        "    tn.append(test_data_label[i])\n",
        "\n",
        "\n",
        "print('false positive:{pp}, false_negative:{ff}'.format(pp=len(fp), ff=len(fn)))\n",
        "len(tn)\n",
        "f1_score(test_label, y_test_pred)"
      ],
      "metadata": {
        "colab": {
          "base_uri": "https://localhost:8080/"
        },
        "id": "XGKSUX6z6F1x",
        "outputId": "52822322-8ea9-4cd0-bc6b-093d3c1d1d3f"
      },
      "execution_count": null,
      "outputs": [
        {
          "output_type": "stream",
          "name": "stdout",
          "text": [
            "false positive:4, false_negative:11\n"
          ]
        },
        {
          "output_type": "execute_result",
          "data": {
            "text/plain": [
              "0.9752883031301481"
            ]
          },
          "metadata": {},
          "execution_count": 75
        }
      ]
    },
    {
      "cell_type": "code",
      "source": [
        "y_test_pred = np.loadtxt('/content/drive/MyDrive/y_pred_test.csv', delimiter=',')\n",
        "#사고인데 사고 아니라고한거 False Positive\n",
        "#사고아닌데 사고라고 한거면 False Negative\n",
        "fp = []\n",
        "fn = []\n",
        "tn = []\n",
        "for i in range(len(y_test_pred)):\n",
        "  if test_label[i] == 1 and y_test_pred[i] == 0:\n",
        "    fp.append(test_data_label[i])\n",
        "  elif test_label[i] == 0 and y_test_pred[i] == 1:\n",
        "    fn.append(test_data_label[i])\n",
        "  elif test_label[i] == 1 and y_test_pred[i] == 1:\n",
        "    tn.append(test_data_label[i])\n",
        "\n",
        "\n",
        "print('false positive:{pp}, false_negative:{ff}'.format(pp=len(fp), ff=len(fn)))\n",
        "len(tn)\n",
        "f1_score(test_label, y_test_pred)"
      ],
      "metadata": {
        "colab": {
          "base_uri": "https://localhost:8080/"
        },
        "id": "vDQuAtNWDes9",
        "outputId": "9c5d5419-635d-4305-f2ac-4e0e3046835e"
      },
      "execution_count": null,
      "outputs": [
        {
          "output_type": "stream",
          "name": "stdout",
          "text": [
            "false positive:4, false_negative:11\n"
          ]
        },
        {
          "output_type": "execute_result",
          "data": {
            "text/plain": [
              "0.9752883031301481"
            ]
          },
          "metadata": {},
          "execution_count": 76
        }
      ]
    },
    {
      "cell_type": "code",
      "source": [
        "fp.sort\n",
        "for i in fp:\n",
        "  print(i[0])"
      ],
      "metadata": {
        "colab": {
          "base_uri": "https://localhost:8080/"
        },
        "id": "XCYJkmFaF3xA",
        "outputId": "3ee6dd5c-dacf-4aa2-a976-bb0f8bbda816"
      },
      "execution_count": null,
      "outputs": [
        {
          "output_type": "stream",
          "name": "stdout",
          "text": [
            "001043-2\n",
            "001428-2\n",
            "001341-2\n",
            "000955-1\n"
          ]
        }
      ]
    },
    {
      "cell_type": "code",
      "source": [
        "40 / 65"
      ],
      "metadata": {
        "colab": {
          "base_uri": "https://localhost:8080/"
        },
        "id": "u-GlUeM9P66h",
        "outputId": "8597aecf-e9bc-427b-a845-98724a8eb02a"
      },
      "execution_count": null,
      "outputs": [
        {
          "output_type": "execute_result",
          "data": {
            "text/plain": [
              "0.6153846153846154"
            ]
          },
          "metadata": {},
          "execution_count": 82
        }
      ]
    },
    {
      "cell_type": "code",
      "source": [
        "from sklearn.metrics import PrecisionRecallDisplay\n",
        "\n",
        "display = PrecisionRecallDisplay.from_predictions(test_label, y_test_pred, name=\"IForest\")\n",
        "_ = display.ax_.set_title(\"Precision-Recall curve\")"
      ],
      "metadata": {
        "colab": {
          "base_uri": "https://localhost:8080/",
          "height": 295
        },
        "id": "43VldldoC41k",
        "outputId": "71a63fdf-a804-4900-a5f3-b8e3ff500df8"
      },
      "execution_count": null,
      "outputs": [
        {
          "output_type": "display_data",
          "data": {
            "text/plain": [
              "<Figure size 432x288 with 1 Axes>"
            ],
            "image/png": "[encoded data removed]"
          },
          "metadata": {
            "needs_background": "light"
          }
        }
      ]
    },
    {
      "cell_type": "code",
      "source": [],
      "metadata": {
        "id": "zjDRt3r1wIFv"
      },
      "execution_count": null,
      "outputs": []
    }
  ]
}
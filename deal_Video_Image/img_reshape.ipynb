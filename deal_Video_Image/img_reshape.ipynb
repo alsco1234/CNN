{
  "cells": [
    {
      "attachments": {},
      "cell_type": "markdown",
      "id": "dbbefa14",
      "metadata": {},
      "source": [
        "resape and transpose"
      ]
    },
    {
      "cell_type": "code",
      "execution_count": 2,
      "id": "1bfa1fa0",
      "metadata": {
        "id": "1bfa1fa0",
        "outputId": "8600e0ee-ee74-4041-a436-c26334061539"
      },
      "outputs": [
        {
          "name": "stdout",
          "output_type": "stream",
          "text": [
            "Done\n"
          ]
        }
      ],
      "source": [
        "import os\n",
        "import glob\n",
        "from PIL import Image\n",
        "\n",
        "files = glob.glob('./data/img_test/*.jpeg')\n",
        "\n",
        "for f in files:\n",
        "    img = Image.open(f)\n",
        "    img_resize = img.resize((416, 416))\n",
        "    img_rot = img_resize.transpose(Image.ROTATE_90)\n",
        "    title, ext = os.path.splitext(f)\n",
        "    title = './data/result/' + title[15:]\n",
        "    img_rot.save(title + ext)\n",
        "\n",
        "print(\"Done\")"
      ]
    }
  ],
  "metadata": {
    "colab": {
      "provenance": []
    },
    "kernelspec": {
      "display_name": "Python 3",
      "language": "python",
      "name": "python3"
    },
    "language_info": {
      "codemirror_mode": {
        "name": "ipython",
        "version": 3
      },
      "file_extension": ".py",
      "mimetype": "text/x-python",
      "name": "python",
      "nbconvert_exporter": "python",
      "pygments_lexer": "ipython3",
      "version": "3.10.1"
    },
    "vscode": {
      "interpreter": {
        "hash": "aee8b7b246df8f9039afb4144a1f6fd8d2ca17a180786b69acc140d282b71a49"
      }
    }
  },
  "nbformat": 4,
  "nbformat_minor": 5
}

{
  "nbformat": 4,
  "nbformat_minor": 0,
  "metadata": {
    "colab": {
      "provenance": []
    },
    "kernelspec": {
      "name": "python3",
      "display_name": "Python 3"
    },
    "language_info": {
      "name": "python"
    }
  },
  "cells": [
    {
      "cell_type": "code",
      "execution_count": null,
      "metadata": {
        "colab": {
          "base_uri": "https://localhost:8080/",
          "height": 1000
        },
        "id": "0THLGFTBpABb",
        "outputId": "88e42e73-1519-41b2-f2d5-8f55b654d730"
      },
      "outputs": [
        {
          "output_type": "stream",
          "name": "stdout",
          "text": [
            "Looking in indexes: https://pypi.org/simple, https://us-python.pkg.dev/colab-wheels/public/simple/\n",
            "Collecting pyod\n",
            "  Downloading pyod-1.0.7.tar.gz (147 kB)\n",
            "\u001b[2K     \u001b[90m━━━━━━━━━━━━━━━━━━━━━━━━━━━━━━━━━━━━━━━\u001b[0m \u001b[32m147.7/147.7 KB\u001b[0m \u001b[31m9.0 MB/s\u001b[0m eta \u001b[36m0:00:00\u001b[0m\n",
            "\u001b[?25h  Preparing metadata (setup.py) ... \u001b[?25l\u001b[?25hdone\n",
            "Requirement already satisfied: joblib in /usr/local/lib/python3.8/dist-packages (from pyod) (1.2.0)\n",
            "Requirement already satisfied: matplotlib in /usr/local/lib/python3.8/dist-packages (from pyod) (3.2.2)\n",
            "Requirement already satisfied: numpy>=1.19 in /usr/local/lib/python3.8/dist-packages (from pyod) (1.21.6)\n",
            "Requirement already satisfied: numba>=0.51 in /usr/local/lib/python3.8/dist-packages (from pyod) (0.56.4)\n",
            "Requirement already satisfied: scipy>=1.5.1 in /usr/local/lib/python3.8/dist-packages (from pyod) (1.7.3)\n",
            "Requirement already satisfied: scikit_learn>=0.20.0 in /usr/local/lib/python3.8/dist-packages (from pyod) (1.0.2)\n",
            "Requirement already satisfied: six in /usr/local/lib/python3.8/dist-packages (from pyod) (1.15.0)\n",
            "Requirement already satisfied: statsmodels in /usr/local/lib/python3.8/dist-packages (from pyod) (0.12.2)\n",
            "Requirement already satisfied: importlib-metadata in /usr/local/lib/python3.8/dist-packages (from numba>=0.51->pyod) (6.0.0)\n",
            "Requirement already satisfied: setuptools in /usr/local/lib/python3.8/dist-packages (from numba>=0.51->pyod) (57.4.0)\n",
            "Requirement already satisfied: llvmlite<0.40,>=0.39.0dev0 in /usr/local/lib/python3.8/dist-packages (from numba>=0.51->pyod) (0.39.1)\n",
            "Requirement already satisfied: threadpoolctl>=2.0.0 in /usr/local/lib/python3.8/dist-packages (from scikit_learn>=0.20.0->pyod) (3.1.0)\n",
            "Requirement already satisfied: python-dateutil>=2.1 in /usr/local/lib/python3.8/dist-packages (from matplotlib->pyod) (2.8.2)\n",
            "Requirement already satisfied: pyparsing!=2.0.4,!=2.1.2,!=2.1.6,>=2.0.1 in /usr/local/lib/python3.8/dist-packages (from matplotlib->pyod) (3.0.9)\n",
            "Requirement already satisfied: cycler>=0.10 in /usr/local/lib/python3.8/dist-packages (from matplotlib->pyod) (0.11.0)\n",
            "Requirement already satisfied: kiwisolver>=1.0.1 in /usr/local/lib/python3.8/dist-packages (from matplotlib->pyod) (1.4.4)\n",
            "Requirement already satisfied: pandas>=0.21 in /usr/local/lib/python3.8/dist-packages (from statsmodels->pyod) (1.3.5)\n",
            "Requirement already satisfied: patsy>=0.5 in /usr/local/lib/python3.8/dist-packages (from statsmodels->pyod) (0.5.3)\n",
            "Requirement already satisfied: pytz>=2017.3 in /usr/local/lib/python3.8/dist-packages (from pandas>=0.21->statsmodels->pyod) (2022.7)\n",
            "Requirement already satisfied: zipp>=0.5 in /usr/local/lib/python3.8/dist-packages (from importlib-metadata->numba>=0.51->pyod) (3.11.0)\n",
            "Building wheels for collected packages: pyod\n",
            "  Building wheel for pyod (setup.py) ... \u001b[?25l\u001b[?25hdone\n",
            "  Created wheel for pyod: filename=pyod-1.0.7-py3-none-any.whl size=181101 sha256=5561e2bba01069c5bffacfc454d35d5abb646d40c12ff2f45fe15d5b6825cdb7\n",
            "  Stored in directory: /root/.cache/pip/wheels/f7/e2/c1/1c7fd8b261e72411f6509afb429c84532e40ddcd96074473f4\n",
            "Successfully built pyod\n",
            "Installing collected packages: pyod\n",
            "Successfully installed pyod-1.0.7\n",
            "Looking in indexes: https://pypi.org/simple, https://us-python.pkg.dev/colab-wheels/public/simple/\n",
            "Collecting scanpy\n",
            "  Downloading scanpy-1.9.1-py3-none-any.whl (2.0 MB)\n",
            "\u001b[2K     \u001b[90m━━━━━━━━━━━━━━━━━━━━━━━━━━━━━━━━━━━━━━━━\u001b[0m \u001b[32m2.0/2.0 MB\u001b[0m \u001b[31m37.3 MB/s\u001b[0m eta \u001b[36m0:00:00\u001b[0m\n",
            "\u001b[?25hCollecting anndata>=0.7.4\n",
            "  Downloading anndata-0.8.0-py3-none-any.whl (96 kB)\n",
            "\u001b[2K     \u001b[90m━━━━━━━━━━━━━━━━━━━━━━━━━━━━━━━━━━━━━━━━\u001b[0m \u001b[32m96.1/96.1 KB\u001b[0m \u001b[31m11.3 MB/s\u001b[0m eta \u001b[36m0:00:00\u001b[0m\n",
            "\u001b[?25hRequirement already satisfied: patsy in /usr/local/lib/python3.8/dist-packages (from scanpy) (0.5.3)\n",
            "Requirement already satisfied: natsort in /usr/local/lib/python3.8/dist-packages (from scanpy) (5.5.0)\n",
            "Requirement already satisfied: networkx>=2.3 in /usr/local/lib/python3.8/dist-packages (from scanpy) (3.0)\n",
            "Collecting umap-learn>=0.3.10\n",
            "  Downloading umap-learn-0.5.3.tar.gz (88 kB)\n",
            "\u001b[2K     \u001b[90m━━━━━━━━━━━━━━━━━━━━━━━━━━━━━━━━━━━━━━━━\u001b[0m \u001b[32m88.2/88.2 KB\u001b[0m \u001b[31m7.4 MB/s\u001b[0m eta \u001b[36m0:00:00\u001b[0m\n",
            "\u001b[?25h  Preparing metadata (setup.py) ... \u001b[?25l\u001b[?25hdone\n",
            "Requirement already satisfied: h5py>=3 in /usr/local/lib/python3.8/dist-packages (from scanpy) (3.1.0)\n",
            "Requirement already satisfied: seaborn in /usr/local/lib/python3.8/dist-packages (from scanpy) (0.11.2)\n",
            "Requirement already satisfied: numba>=0.41.0 in /usr/local/lib/python3.8/dist-packages (from scanpy) (0.56.4)\n",
            "Requirement already satisfied: tqdm in /usr/local/lib/python3.8/dist-packages (from scanpy) (4.64.1)\n",
            "Requirement already satisfied: scikit-learn>=0.22 in /usr/local/lib/python3.8/dist-packages (from scanpy) (1.0.2)\n",
            "Requirement already satisfied: packaging in /usr/local/lib/python3.8/dist-packages (from scanpy) (21.3)\n",
            "Collecting session-info\n",
            "  Downloading session_info-1.0.0.tar.gz (24 kB)\n",
            "  Preparing metadata (setup.py) ... \u001b[?25l\u001b[?25hdone\n",
            "Requirement already satisfied: scipy>=1.4 in /usr/local/lib/python3.8/dist-packages (from scanpy) (1.7.3)\n",
            "Collecting matplotlib>=3.4\n",
            "  Downloading matplotlib-3.6.3-cp38-cp38-manylinux_2_12_x86_64.manylinux2010_x86_64.whl (9.4 MB)\n",
            "\u001b[2K     \u001b[90m━━━━━━━━━━━━━━━━━━━━━━━━━━━━━━━━━━━━━━━━\u001b[0m \u001b[32m9.4/9.4 MB\u001b[0m \u001b[31m64.4 MB/s\u001b[0m eta \u001b[36m0:00:00\u001b[0m\n",
            "\u001b[?25hRequirement already satisfied: statsmodels>=0.10.0rc2 in /usr/local/lib/python3.8/dist-packages (from scanpy) (0.12.2)\n",
            "Requirement already satisfied: numpy>=1.17.0 in /usr/local/lib/python3.8/dist-packages (from scanpy) (1.21.6)\n",
            "Requirement already satisfied: pandas>=1.0 in /usr/local/lib/python3.8/dist-packages (from scanpy) (1.3.5)\n",
            "Requirement already satisfied: joblib in /usr/local/lib/python3.8/dist-packages (from scanpy) (1.2.0)\n",
            "Collecting contourpy>=1.0.1\n",
            "  Downloading contourpy-1.0.7-cp38-cp38-manylinux_2_17_x86_64.manylinux2014_x86_64.whl (300 kB)\n",
            "\u001b[2K     \u001b[90m━━━━━━━━━━━━━━━━━━━━━━━━━━━━━━━━━━━━━━\u001b[0m \u001b[32m300.0/300.0 KB\u001b[0m \u001b[31m30.0 MB/s\u001b[0m eta \u001b[36m0:00:00\u001b[0m\n",
            "\u001b[?25hRequirement already satisfied: python-dateutil>=2.7 in /usr/local/lib/python3.8/dist-packages (from matplotlib>=3.4->scanpy) (2.8.2)\n",
            "Requirement already satisfied: pyparsing>=2.2.1 in /usr/local/lib/python3.8/dist-packages (from matplotlib>=3.4->scanpy) (3.0.9)\n",
            "Requirement already satisfied: pillow>=6.2.0 in /usr/local/lib/python3.8/dist-packages (from matplotlib>=3.4->scanpy) (7.1.2)\n",
            "Requirement already satisfied: cycler>=0.10 in /usr/local/lib/python3.8/dist-packages (from matplotlib>=3.4->scanpy) (0.11.0)\n",
            "Collecting fonttools>=4.22.0\n",
            "  Downloading fonttools-4.38.0-py3-none-any.whl (965 kB)\n",
            "\u001b[2K     \u001b[90m━━━━━━━━━━━━━━━━━━━━━━━━━━━━━━━━━━━━━━\u001b[0m \u001b[32m965.4/965.4 KB\u001b[0m \u001b[31m58.3 MB/s\u001b[0m eta \u001b[36m0:00:00\u001b[0m\n",
            "\u001b[?25hRequirement already satisfied: kiwisolver>=1.0.1 in /usr/local/lib/python3.8/dist-packages (from matplotlib>=3.4->scanpy) (1.4.4)\n",
            "Requirement already satisfied: importlib-metadata in /usr/local/lib/python3.8/dist-packages (from numba>=0.41.0->scanpy) (6.0.0)\n",
            "Requirement already satisfied: setuptools in /usr/local/lib/python3.8/dist-packages (from numba>=0.41.0->scanpy) (57.4.0)\n",
            "Requirement already satisfied: llvmlite<0.40,>=0.39.0dev0 in /usr/local/lib/python3.8/dist-packages (from numba>=0.41.0->scanpy) (0.39.1)\n",
            "Requirement already satisfied: pytz>=2017.3 in /usr/local/lib/python3.8/dist-packages (from pandas>=1.0->scanpy) (2022.7)\n",
            "Requirement already satisfied: threadpoolctl>=2.0.0 in /usr/local/lib/python3.8/dist-packages (from scikit-learn>=0.22->scanpy) (3.1.0)\n",
            "Requirement already satisfied: six in /usr/local/lib/python3.8/dist-packages (from patsy->scanpy) (1.15.0)\n",
            "Collecting pynndescent>=0.5\n",
            "  Downloading pynndescent-0.5.8.tar.gz (1.1 MB)\n",
            "\u001b[2K     \u001b[90m━━━━━━━━━━━━━━━━━━━━━━━━━━━━━━━━━━━━━━━━\u001b[0m \u001b[32m1.1/1.1 MB\u001b[0m \u001b[31m52.5 MB/s\u001b[0m eta \u001b[36m0:00:00\u001b[0m\n",
            "\u001b[?25h  Preparing metadata (setup.py) ... \u001b[?25l\u001b[?25hdone\n",
            "Collecting stdlib_list\n",
            "  Downloading stdlib_list-0.8.0-py3-none-any.whl (63 kB)\n",
            "\u001b[2K     \u001b[90m━━━━━━━━━━━━━━━━━━━━━━━━━━━━━━━━━━━━━━━━\u001b[0m \u001b[32m63.5/63.5 KB\u001b[0m \u001b[31m6.9 MB/s\u001b[0m eta \u001b[36m0:00:00\u001b[0m\n",
            "\u001b[?25hRequirement already satisfied: zipp>=0.5 in /usr/local/lib/python3.8/dist-packages (from importlib-metadata->numba>=0.41.0->scanpy) (3.11.0)\n",
            "Building wheels for collected packages: umap-learn, session-info, pynndescent\n",
            "  Building wheel for umap-learn (setup.py) ... \u001b[?25l\u001b[?25hdone\n",
            "  Created wheel for umap-learn: filename=umap_learn-0.5.3-py3-none-any.whl size=82829 sha256=b174c9cbe426e0ef53b18bfd4ef3373c0e42765457f2965e7c1c63c5699e3f82\n",
            "  Stored in directory: /root/.cache/pip/wheels/a9/3a/67/06a8950e053725912e6a8c42c4a3a241410f6487b8402542ea\n",
            "  Building wheel for session-info (setup.py) ... \u001b[?25l\u001b[?25hdone\n",
            "  Created wheel for session-info: filename=session_info-1.0.0-py3-none-any.whl size=8046 sha256=768badcfb9ab5c2af42129f551468d27d838dd26ee153234a48eeac7f5a0fb3a\n",
            "  Stored in directory: /root/.cache/pip/wheels/5c/1b/4d/111d73980c5c6a8e5e5905a19eccc34296cb359cac54c6c5b9\n",
            "  Building wheel for pynndescent (setup.py) ... \u001b[?25l\u001b[?25hdone\n",
            "  Created wheel for pynndescent: filename=pynndescent-0.5.8-py3-none-any.whl size=55513 sha256=3ea56034189a83f119a6e92fcdcbd3140dd6ce8704bcf2156574aefb840d0cec\n",
            "  Stored in directory: /root/.cache/pip/wheels/1c/63/3a/29954bca1a27ba100ed8c27973a78cb71b43dc67aed62e80c3\n",
            "Successfully built umap-learn session-info pynndescent\n",
            "Installing collected packages: stdlib_list, session-info, fonttools, contourpy, matplotlib, pynndescent, anndata, umap-learn, scanpy\n",
            "  Attempting uninstall: matplotlib\n",
            "    Found existing installation: matplotlib 3.2.2\n",
            "    Uninstalling matplotlib-3.2.2:\n",
            "      Successfully uninstalled matplotlib-3.2.2\n",
            "Successfully installed anndata-0.8.0 contourpy-1.0.7 fonttools-4.38.0 matplotlib-3.6.3 pynndescent-0.5.8 scanpy-1.9.1 session-info-1.0.0 stdlib_list-0.8.0 umap-learn-0.5.3\n"
          ]
        },
        {
          "output_type": "display_data",
          "data": {
            "application/vnd.colab-display-data+json": {
              "pip_warning": {
                "packages": [
                  "matplotlib",
                  "mpl_toolkits"
                ]
              }
            }
          },
          "metadata": {}
        },
        {
          "output_type": "stream",
          "name": "stdout",
          "text": [
            "Looking in indexes: https://pypi.org/simple, https://us-python.pkg.dev/colab-wheels/public/simple/\n",
            "Requirement already satisfied: matplotlib in /usr/local/lib/python3.8/dist-packages (3.6.3)\n",
            "Requirement already satisfied: cycler>=0.10 in /usr/local/lib/python3.8/dist-packages (from matplotlib) (0.11.0)\n",
            "Requirement already satisfied: numpy>=1.19 in /usr/local/lib/python3.8/dist-packages (from matplotlib) (1.21.6)\n",
            "Requirement already satisfied: pyparsing>=2.2.1 in /usr/local/lib/python3.8/dist-packages (from matplotlib) (3.0.9)\n",
            "Requirement already satisfied: python-dateutil>=2.7 in /usr/local/lib/python3.8/dist-packages (from matplotlib) (2.8.2)\n",
            "Requirement already satisfied: pillow>=6.2.0 in /usr/local/lib/python3.8/dist-packages (from matplotlib) (7.1.2)\n",
            "Requirement already satisfied: contourpy>=1.0.1 in /usr/local/lib/python3.8/dist-packages (from matplotlib) (1.0.7)\n",
            "Requirement already satisfied: packaging>=20.0 in /usr/local/lib/python3.8/dist-packages (from matplotlib) (21.3)\n",
            "Requirement already satisfied: fonttools>=4.22.0 in /usr/local/lib/python3.8/dist-packages (from matplotlib) (4.38.0)\n",
            "Requirement already satisfied: kiwisolver>=1.0.1 in /usr/local/lib/python3.8/dist-packages (from matplotlib) (1.4.4)\n",
            "Requirement already satisfied: six>=1.5 in /usr/local/lib/python3.8/dist-packages (from python-dateutil>=2.7->matplotlib) (1.15.0)\n"
          ]
        }
      ],
      "source": [
        "!pip install pyod\n",
        "!pip3 install scanpy\n",
        "!pip install matplotlib"
      ]
    },
    {
      "cell_type": "code",
      "source": [
        "# norm_data.shape (9000,512) crash_data.shape (2025,512)\n",
        "# crash anomaly is too many so, use only 300 of crash data (10% of normal data)\n",
        "#crash_data = crash_data[0:900, :]\n",
        "norm_data = normal_data[:, :]\n",
        "crash_data = crash_data[:1000, :]\n",
        "# split 70% for training 30% for testing\n",
        "N = norm_data.shape[0]\n",
        "N_tr = np.round(N * 0.7).astype(int)\n",
        "train_data = norm_data[:N_tr, :]\n",
        "test_data = norm_data[N_tr:, :]\n",
        "train_data_label = normal_label[:N_tr]\n",
        "test_data_label = normal_label[N_tr:]\n",
        "\n",
        "train_label = np.zeros(train_data.shape[0])#,dtype=\"U4\")\n",
        "#train_label[:] = 'normal'\n",
        "test_label = np.zeros(test_data.shape[0])#,dtype=\"U4\")\n",
        "#test_label[:] = 'normal'\n",
        "\n",
        "C = crash_data.shape[0]\n",
        "C_tr = np.round(C * 0.7).astype(int)\n",
        "# train_data = np.concatenate([train_data, crash_data[:C_tr, :]])\n",
        "# tmp = np.ones(crash_data[:C_tr, :].shape[0])\n",
        "#train_data = np.concatenate([train_data, crash_data[:C_tr, :]])\n",
        "tmp = np.ones(crash_data[:C_tr, :].shape[0])\n",
        "#tmp[:] = 'anomaly'\n",
        "#train_label = np.concatenate([train_label, tmp])\n",
        "\n",
        "#test_data = np.concatenate([test_data, crash_data[C_tr:, :]])\n",
        "#tmp = np.ones(crash_data[C_tr:, :].shape[0])\n",
        "test_data = np.concatenate([test_data, crash_data[C_tr:, :]])\n",
        "tmp = np.ones(crash_data[C_tr:, :].shape[0])\n",
        "#tmp[:] = 'anomaly'\n",
        "test_label = np.concatenate([test_label, tmp])\n",
        "\n",
        "#train_data_label = np.concatenate([train_data_label, crash_label[:C_tr]])\n",
        "test_data_label = np.concatenate([test_data_label, crash_label[C_tr:]])\n",
        "\n",
        "print(train_data.shape, test_data.shape)\n",
        "print(N, N_tr, C_tr)"
      ],
      "metadata": {
        "colab": {
          "base_uri": "https://localhost:8080/"
        },
        "id": "yrlKz3EqpeNQ",
        "outputId": "4b44d65b-8ee1-4894-afe0-506c7f08515e"
      },
      "execution_count": null,
      "outputs": [
        {
          "output_type": "stream",
          "name": "stdout",
          "text": [
            "(6300, 2048) (3000, 2048)\n",
            "9000 6300 700\n"
          ]
        }
      ]
    },
    {
      "cell_type": "code",
      "source": [
        "from pyod.models.cof import COF\n",
        "from pyod.models.iforest import IForest\n",
        "from pyod.models.ocsvm import OCSVM\n",
        "from pyod.models.auto_encoder import AutoEncoder\n",
        "from pyod.utils.example import visualize\n",
        "from pyod.utils.data import evaluate_print\n",
        "from pyod.utils.data import generate_data\n",
        "from torchvision import datasets, transforms\n",
        "from pyod.utils.utility import precision_n_scores\n",
        "from sklearn.metrics import precision_score, recall_score, f1_score, accuracy_score, roc_auc_score, average_precision_score\n",
        "from sklearn import metrics\n",
        "from sklearn.metrics import precision_recall_curve, PrecisionRecallDisplay\n",
        "from sklearn.metrics import roc_auc_score\n",
        "import numpy as np\n",
        "import csv\n",
        "\n",
        "from sklearn.model_selection import train_test_split\n",
        "normal_data = np.loadtxt('/content/drive/MyDrive/normal_X3D.csv', delimiter=',', dtype='U4')\n",
        "crash_data = np.loadtxt('/content/drive/MyDrive/crash_X3D.csv', delimiter=',', dtype='U4')\n",
        "normal_label =np.loadtxt('/content/drive/MyDrive/normal_labeled_X3D.csv', delimiter=',', dtype='U4')\n",
        "crash_label = np.loadtxt('/content/drive/MyDrive/crash_labeled_X3D.csv', delimiter=',', dtype='U4')\n",
        "extra_norm_data = np.loadtxt('/content/drive/MyDrive/new_data_normal_X3D.csv', delimiter = ',', dtype='U4')\n",
        "extra_norm_label = np.loadtxt('/content/drive/MyDrive/new_data_normal_labeled_X3D.csv', delimiter = ',', dtype='U4')\n",
        "\n",
        "print('normal: ', normal_data.shape, normal_label.shape)\n",
        "print('crash: ', crash_data.shape, crash_label.shape)\n",
        "print('extra: ', extra_norm_data.shape, extra_norm_label.shape)"
      ],
      "metadata": {
        "id": "VpV59n0ppRuB",
        "colab": {
          "base_uri": "https://localhost:8080/"
        },
        "outputId": "878e9ec1-fddf-46c4-f69c-c51e636f5def"
      },
      "execution_count": null,
      "outputs": [
        {
          "output_type": "stream",
          "name": "stdout",
          "text": [
            "normal:  (9000, 2048) (9000,)\n",
            "crash:  (2025, 2048) (2025,)\n",
            "extra:  (3129, 2048) (3129,)\n"
          ]
        }
      ]
    },
    {
      "cell_type": "code",
      "source": [
        "#### shuffling the label ####\n",
        "# norm_data.shape (9000,512) crash_data.shape (2025,512)\n",
        "# normal_data.shape (2523,512) super_crash.shape (65)\n",
        "# crash anomaly is too many so, use only 300 of crash data (10% of normal data)\n",
        "print('crash is', crash_data.shape)\n",
        "\n",
        "\n",
        "N = 12000\n",
        "normal_data = np.concatenate([normal_data, extra_norm_data])\n",
        "normal_label = np.concatenate([normal_label, extra_norm_label])\n",
        "\n",
        "#for shuffle normal data\n",
        "total_normal = np.insert(normal_data, 0, normal_label, axis = 1)\n",
        "np.random.shuffle(total_normal)\n",
        "normal_label = total_normal[:12000]\n",
        "\n",
        "normal_data = np.delete(total_normal, 0, 1)\n",
        "normal_data = normal_data[:12000, :]\n",
        "\n",
        "total_crash = np.insert(crash_data, 0, crash_label, axis = 1)\n",
        "np.random.shuffle(total_crash)\n",
        "crash_label = total_crash[:300]\n",
        "\n",
        "crash_data = np.delete(total_crash, 0, 1)\n",
        "crash_data = crash_data[:300, :]\n",
        "\n",
        "# split 0.75:0.25 for training and testing\n",
        "N_tr = np.round(N * .75).astype(int)\n",
        "train_data = normal_data[:N_tr+300, :] #normal - 9300\n",
        "test_data = normal_data[N_tr+300:, :]  # normal - 2700\n",
        "\n",
        "#label - 0 = 'inlier'\n",
        "train_label = np.zeros(train_data.shape[0])#,dtype=\"U4\")\n",
        "test_label = np.zeros(test_data.shape[0])#,dtype=\"U4\")\n",
        "\n",
        "#label - 1 = 'outlier'\n",
        "test_data = np.concatenate([test_data, crash_data[:, :]]) #anomaly - 300\n",
        "tmp = np.ones(crash_data[:, :].shape[0])\n",
        "test_label = np.concatenate([test_label, tmp])\n",
        "\n",
        "\n",
        "# #shuffle outlier and inlier\n",
        "# train_data = np.insert(train_data, 0, train_label, axis=1)\n",
        "# test_data = np.insert(test_data, 0, test_label, axis=1)\n",
        "\n",
        "# np.random.shuffle(train_data)\n",
        "# np.random.shuffle(test_data)\n",
        "\n",
        "# train_label = train_data[:, 0]\n",
        "# test_label = test_data[:, 0]\n",
        "# np.delete(train_data, 0, 1)\n",
        "# np.delete(test_data, 0, 1)\n",
        "\n",
        "print(train_data.shape, test_data.shape)"
      ],
      "metadata": {
        "colab": {
          "base_uri": "https://localhost:8080/"
        },
        "id": "C3Di5p9iX3pd",
        "outputId": "d2d51068-c18a-406b-e0b1-b75eabed5094"
      },
      "execution_count": null,
      "outputs": [
        {
          "output_type": "stream",
          "name": "stdout",
          "text": [
            "crash is (2025, 2048)\n",
            "(9300, 2048) (3000, 2048)\n"
          ]
        }
      ]
    },
    {
      "cell_type": "code",
      "source": [
        "max_roc = 0\n",
        "max_precision = 0\n",
        "max_recall = 0\n",
        "max_acc = 0\n",
        "max_pred = np.zeros(test_label.shape[0])\n",
        "max_scores = 0\n",
        "max_train_pred = 0\n",
        "max_train_scores = 0\n",
        "max_i = 0\n",
        "max_pr_auc = 0\n",
        "\n",
        "classifier_name = 'One-Class-SVM'\n",
        "#classifier = IForest(contamination = 0.1, n_estimators = 1500)\n",
        "#classifier = AutoEncoder(hidden_neurons = [256, 128, 64, 3, 3, 64, 128, 256], contamination = 0.01, epochs=50, batch_size=100)\n",
        "classifier = OCSVM(contamination = 0.1)\n",
        "classifier.fit(train_data)\n",
        "\n",
        "#array([0, 0, 0, ..., 0, 0, 0])\n",
        "classifier.labels_\n",
        "\n",
        "# get the prediction labels and outlier scores of the training data\n",
        "y_train_pred = classifier.labels_ # binary labels (0: inliers, 1: outliers)\n",
        "y_train_scores = classifier.decision_scores_ # raw outlier scores\n",
        "y_train_scores.shape  #(2169,)\n",
        "\n",
        "y_test_pred = classifier.predict(test_data)\n",
        "y_test_scores = classifier.decision_function(test_data)\n",
        "\n",
        "train_acc=np.round(accuracy_score(train_label, y_train_pred), decimals=3)\n",
        "test_acc=np.round(accuracy_score(test_label, y_test_pred), decimals=3)\n",
        "test_precision=np.round(precision_score(test_label, y_test_pred), decimals=3)\n",
        "test_recall=np.round(recall_score(test_label, y_test_pred), decimals=3)\n",
        "\n",
        "# evaluate and print the results\n",
        "#print(\"\\nOn Training Data:\")\n",
        "#print('accuracy :{acc}, '.format(acc=train_acc), end=' ')\n",
        "#evaluate_print(classifier_name, train_label, y_train_scores)\n",
        "\n",
        "print(\"\\nOn Test Data:\")\n",
        "print('accuracy :{acc}, '.format(acc=test_acc), end=' ')\n",
        "print('precision :{prec}, '.format(prec=test_precision), end=' ')\n",
        "print('recall :{recall}, '.format(recall=test_recall), end=' ')"
      ],
      "metadata": {
        "colab": {
          "base_uri": "https://localhost:8080/"
        },
        "id": "5g8h134Spj3u",
        "outputId": "cee79fbe-82cd-453b-8aed-78cefea17a07"
      },
      "execution_count": null,
      "outputs": [
        {
          "output_type": "stream",
          "name": "stderr",
          "text": [
            "/usr/local/lib/python3.8/dist-packages/pyod/models/ocsvm.py:152: FutureWarning: Arrays of bytes/strings is being converted to decimal numbers if dtype='numeric'. This behavior is deprecated in 0.24 and will be removed in 1.1 (renaming of 0.26). Please convert your data to numeric values explicitly instead.\n",
            "  X = check_array(X)\n"
          ]
        },
        {
          "output_type": "stream",
          "name": "stdout",
          "text": [
            "\n",
            "On Test Data:\n",
            "accuracy :0.842,  precision :0.24,  recall :0.267,  "
          ]
        }
      ]
    },
    {
      "cell_type": "code",
      "source": [
        "evaluate_print(classifier_name, test_label, y_test_scores)\n",
        "\n",
        "print('\\nMax is precision:{prec}, recall:{recall} '.format(prec=max_precision, recall=max_recall))\n",
        "roc=np.round(roc_auc_score(test_label, y_test_scores), decimals=3)\n",
        "pr_auc = average_precision_score(test_label, y_test_pred)\n",
        "  \n",
        "max_pr_auc"
      ],
      "metadata": {
        "colab": {
          "base_uri": "https://localhost:8080/"
        },
        "id": "HoQPQ1g4zGH4",
        "outputId": "21374e75-5bf9-424d-a622-2e166dee1194"
      },
      "execution_count": null,
      "outputs": [
        {
          "output_type": "stream",
          "name": "stdout",
          "text": [
            "One-Class-SVM ROC:0.8115, precision @ rank n:0.2525\n",
            "\n",
            "Max is precision:0, recall:0 \n"
          ]
        },
        {
          "output_type": "execute_result",
          "data": {
            "text/plain": [
              "0"
            ]
          },
          "metadata": {},
          "execution_count": 19
        }
      ]
    },
    {
      "cell_type": "code",
      "source": [
        "import matplotlib.pyplot as plt\n",
        "from sklearn.metrics import RocCurveDisplay\n",
        "\n",
        "RocCurveDisplay.from_predictions(\n",
        "    test_label, y_test_scores,\n",
        "    color=\"darkorange\",\n",
        ")\n",
        "plt.plot([0, 1], [0, 1], \"k--\")\n",
        "plt.axis(\"square\")\n",
        "plt.xlabel(\"False Positive Rate\")\n",
        "plt.ylabel(\"True Positive Rate\")\n",
        "plt.legend()\n",
        "plt.show()"
      ],
      "metadata": {
        "colab": {
          "base_uri": "https://localhost:8080/",
          "height": 279
        },
        "id": "px9bti2GXQUO",
        "outputId": "e902f806-0a8b-406e-bf5c-e31e9bf2f604"
      },
      "execution_count": null,
      "outputs": [
        {
          "output_type": "display_data",
          "data": {
            "text/plain": [
              "<Figure size 432x288 with 1 Axes>"
            ],
            "image/png": "[encoded data removed]"
          },
          "metadata": {
            "needs_background": "light"
          }
        }
      ]
    },
    {
      "cell_type": "code",
      "source": [
        "from sklearn.metrics import PrecisionRecallDisplay\n",
        "\n",
        "display = PrecisionRecallDisplay.from_predictions(test_label, y_test_scores, name=\"One-Class-SVM\")\n",
        "_ = display.ax_.set_title(\"2-class Precision-Recall curve\")"
      ],
      "metadata": {
        "colab": {
          "base_uri": "https://localhost:8080/",
          "height": 295
        },
        "id": "sJIos9mxv3W5",
        "outputId": "b443fa86-9f36-447a-b9f0-f9ea470649d1"
      },
      "execution_count": null,
      "outputs": [
        {
          "output_type": "display_data",
          "data": {
            "text/plain": [
              "<Figure size 432x288 with 1 Axes>"
            ],
            "image/png": "[encoded data removed]"
          },
          "metadata": {
            "needs_background": "light"
          }
        }
      ]
    },
    {
      "cell_type": "code",
      "source": [
        "#사고인데 사고 아니라고한거 False Positive\n",
        "#사고아닌데 사고라고 한거면 False Negative\n",
        "fp = []\n",
        "fn = []\n",
        "for i in range(len(y_test_pred)):\n",
        "  if test_label[i] == 1 and y_test_pred[i] == 0:\n",
        "    fp.append(test_data_label[i])\n",
        "  elif test_label[i] == 0 and y_test_pred[i] == 1:\n",
        "    fn.append(test_data_label[i])\n",
        "\n",
        "\n",
        "print('false positive:{pp}, false_negative:{ff}'.format(pp=len(fp), ff=len(fn)))\n",
        "print(f1_score(test_label, y_test_pred))"
      ],
      "metadata": {
        "colab": {
          "base_uri": "https://localhost:8080/"
        },
        "id": "GwO6kHbMAGGr",
        "outputId": "68e969d0-0579-4c80-a7ef-7ac753ee3dcb"
      },
      "execution_count": null,
      "outputs": [
        {
          "output_type": "stream",
          "name": "stdout",
          "text": [
            "false positive:220, false_negative:254\n",
            "0.252365930599369\n"
          ]
        }
      ]
    }
  ]
}